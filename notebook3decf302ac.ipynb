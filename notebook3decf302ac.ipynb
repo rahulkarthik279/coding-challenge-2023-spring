{
 "cells": [
  {
   "cell_type": "code",
   "execution_count": 1,
   "id": "90dfafb6",
   "metadata": {
    "_cell_guid": "b1076dfc-b9ad-4769-8c92-a6c4dae69d19",
    "_uuid": "8f2839f25d086af736a60e9eeb907d3b93b6e0e5",
    "execution": {
     "iopub.execute_input": "2023-01-31T16:21:36.620484Z",
     "iopub.status.busy": "2023-01-31T16:21:36.619856Z",
     "iopub.status.idle": "2023-01-31T16:21:36.647261Z",
     "shell.execute_reply": "2023-01-31T16:21:36.646281Z"
    },
    "papermill": {
     "duration": 0.035659,
     "end_time": "2023-01-31T16:21:36.650241",
     "exception": false,
     "start_time": "2023-01-31T16:21:36.614582",
     "status": "completed"
    },
    "tags": []
   },
   "outputs": [
    {
     "name": "stdout",
     "output_type": "stream",
     "text": [
      "/kaggle/input/star-dataset/6 class csv.csv\n"
     ]
    }
   ],
   "source": [
    "# This Python 3 environment comes with many helpful analytics libraries installed\n",
    "# It is defined by the kaggle/python Docker image: https://github.com/kaggle/docker-python\n",
    "# For example, here's several helpful packages to load\n",
    "\n",
    "import numpy as np # linear algebra\n",
    "import pandas as pd # data processing, CSV file I/O (e.g. pd.read_csv)\n",
    "import matplotlib.pyplot as plt\n",
    "# Input data files are available in the read-only \"../input/\" directory\n",
    "# For example, running this (by clicking run or pressing Shift+Enter) will list all files under the input directory\n",
    "\n",
    "import os\n",
    "for dirname, _, filenames in os.walk('/kaggle/input'):\n",
    "    for filename in filenames:\n",
    "        print(os.path.join(dirname, filename))\n",
    "\n",
    "# You can write up to 20GB to the current directory (/kaggle/working/) that gets preserved as output when you create a version using \"Save & Run All\" \n",
    "# You can also write temporary files to /kaggle/temp/, but they won't be saved outside of the current session"
   ]
  },
  {
   "cell_type": "markdown",
   "id": "5e117cc3",
   "metadata": {
    "execution": {
     "iopub.execute_input": "2023-01-31T15:56:42.171203Z",
     "iopub.status.busy": "2023-01-31T15:56:42.170702Z",
     "iopub.status.idle": "2023-01-31T15:56:42.704701Z",
     "shell.execute_reply": "2023-01-31T15:56:42.703612Z",
     "shell.execute_reply.started": "2023-01-31T15:56:42.171164Z"
    },
    "papermill": {
     "duration": 0.001692,
     "end_time": "2023-01-31T16:21:36.654377",
     "exception": false,
     "start_time": "2023-01-31T16:21:36.652685",
     "status": "completed"
    },
    "tags": []
   },
   "source": [
    "## dataset = pd.read_csv(\"/kaggle/input/star-dataset/6 class csv.csv\")\n",
    "luminosity = dataset['Luminosity(L/Lo)']\n",
    "visual_magnitude = dataset[\"Absolute magnitude(Mv)\"]\n",
    "for i in range(0,len(luminosity)):\n",
    "    luminosity[i] = luminosity[i]/100000\n",
    "plt.scatter(luminosity, visual_magnitude)\n",
    "plt.title('Absolute magnitude vs Luminosity')\n",
    "axes = plt.gca()\n",
    "axes.locator_params(\"x\", nbins = 10)\n",
    "axes.locator_params(\"y\", nbins = 4)\n",
    "plt.xlabel(\"Luminosity (in 100,000s)\")\n",
    "plt.ylabel(\"Absolute magnitude\")\n",
    "plt.tick_params(axis = \"x\", which = \"major\", labelsize = 5)\n",
    "plt.show()\n",
    "plt.scatter(luminosity, visual_magnitude)\n",
    "plt.title('Deeper examination into the low luminosities (0 to 0.05)')\n",
    "axes = plt.gca()\n",
    "axes.locator_params(\"x\", nbins = 20)\n",
    "axes.locator_params(\"y\", nbins = 4)\n",
    "plt.xlabel(\"Luminosity (in 100,000s)\")\n",
    "plt.ylabel(\"Absolute magnitude\")\n",
    "plt.xlim(0,0.00000005)\n",
    "plt.tick_params(axis = \"x\", which = \"major\", labelsize = 5)\n",
    "plt.show()"
   ]
  },
  {
   "cell_type": "code",
   "execution_count": 2,
   "id": "a5d979e5",
   "metadata": {
    "execution": {
     "iopub.execute_input": "2023-01-31T16:21:36.660435Z",
     "iopub.status.busy": "2023-01-31T16:21:36.660042Z",
     "iopub.status.idle": "2023-01-31T16:21:37.362306Z",
     "shell.execute_reply": "2023-01-31T16:21:37.361438Z"
    },
    "papermill": {
     "duration": 0.708154,
     "end_time": "2023-01-31T16:21:37.364657",
     "exception": false,
     "start_time": "2023-01-31T16:21:36.656503",
     "status": "completed"
    },
    "tags": []
   },
   "outputs": [
    {
     "name": "stderr",
     "output_type": "stream",
     "text": [
      "/opt/conda/lib/python3.7/site-packages/ipykernel_launcher.py:7: SettingWithCopyWarning: \n",
      "A value is trying to be set on a copy of a slice from a DataFrame\n",
      "\n",
      "See the caveats in the documentation: https://pandas.pydata.org/pandas-docs/stable/user_guide/indexing.html#returning-a-view-versus-a-copy\n",
      "  import sys\n"
     ]
    },
    {
     "data": {
      "image/png": "[encoded data removed]",
      "text/plain": [
       "<Figure size 432x288 with 1 Axes>"
      ]
     },
     "metadata": {
      "needs_background": "light"
     },
     "output_type": "display_data"
    },
    {
     "name": "stderr",
     "output_type": "stream",
     "text": [
      "/opt/conda/lib/python3.7/site-packages/ipykernel_launcher.py:17: SettingWithCopyWarning: \n",
      "A value is trying to be set on a copy of a slice from a DataFrame\n",
      "\n",
      "See the caveats in the documentation: https://pandas.pydata.org/pandas-docs/stable/user_guide/indexing.html#returning-a-view-versus-a-copy\n",
      "  app.launch_new_instance()\n"
     ]
    },
    {
     "data": {
      "image/png": "[encoded data removed]",
      "text/plain": [
       "<Figure size 432x288 with 1 Axes>"
      ]
     },
     "metadata": {
      "needs_background": "light"
     },
     "output_type": "display_data"
    }
   ],
   "source": [
    "dataset = pd.read_csv(\"/kaggle/input/star-dataset/6 class csv.csv\")\n",
    "sep_lum = dataset.groupby([\"Luminosity(L/Lo)\", \"Star type\"])\n",
    "sep_vm = dataset.groupby([\"Absolute magnitude(Mv)\", \"Star type\"])\n",
    "luminosity = dataset['Luminosity(L/Lo)']\n",
    "visual_magnitude = dataset[\"Absolute magnitude(Mv)\"]\n",
    "for i in range(0,len(luminosity)): \n",
    "    luminosity[i] = luminosity[i]/100000 \n",
    "plt.scatter(luminosity, visual_magnitude)\n",
    "plt.title('Absolute magnitude vs Luminosity') \n",
    "axes = plt.gca() \n",
    "axes.locator_params(\"x\", nbins = 20) \n",
    "axes.locator_params(\"y\", nbins = 4) \n",
    "plt.xlabel(\"Luminosity (in 100,000s)\")\n",
    "plt.ylabel(\"Absolute magnitude\") \n",
    "plt.show()\n",
    "for i in range(0,len(luminosity)): \n",
    "    luminosity[i] = luminosity[i] * 100000 \n",
    "plt.scatter(luminosity, visual_magnitude) \n",
    "plt.title('Deeper examination into the low luminosities (0 to 0.005)') \n",
    "axes = plt.gca()\n",
    "axes.locator_params(\"x\", nbins = 20)\n",
    "axes.locator_params(\"y\", nbins = 4) \n",
    "plt.xlim(0,0.005) \n",
    "plt.xlabel(\"Luminosity\")\n",
    "plt.ylabel(\"Absolute magnitude\") \n",
    "plt.tick_params(axis = \"x\", which = \"major\", labelsize = 3) \n",
    "plt.show()"
   ]
  }
 ],
 "metadata": {
  "kernelspec": {
   "display_name": "Python 3",
   "language": "python",
   "name": "python3"
  },
  "language_info": {
   "codemirror_mode": {
    "name": "ipython",
    "version": 3
   },
   "file_extension": ".py",
   "mimetype": "text/x-python",
   "name": "python",
   "nbconvert_exporter": "python",
   "pygments_lexer": "ipython3",
   "version": "3.7.12"
  },
  "papermill": {
   "default_parameters": {},
   "duration": 9.972311,
   "end_time": "2023-01-31T16:21:38.092119",
   "environment_variables": {},
   "exception": null,
   "input_path": "__notebook__.ipynb",
   "output_path": "__notebook__.ipynb",
   "parameters": {},
   "start_time": "2023-01-31T16:21:28.119808",
   "version": "2.3.4"
  }
 },
 "nbformat": 4,
 "nbformat_minor": 5
}
